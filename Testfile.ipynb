{
 "cells": [
  {
   "cell_type": "code",
   "execution_count": 3,
   "id": "f1782c0c-595a-499e-8340-857f72179f93",
   "metadata": {},
   "outputs": [],
   "source": [
    "alien_0 = {'color': 'green', 'points': 5}"
   ]
  },
  {
   "cell_type": "code",
   "execution_count": 5,
   "id": "f3eb46fe-0588-4161-b9f7-e68732b8fb08",
   "metadata": {},
   "outputs": [
    {
     "name": "stdout",
     "output_type": "stream",
     "text": [
      "green\n"
     ]
    }
   ],
   "source": [
    "print(alien_0['color'])"
   ]
  },
  {
   "cell_type": "code",
   "execution_count": 5,
   "id": "6b0a5f89-12c7-4960-bf37-eef7ed7a2e59",
   "metadata": {},
   "outputs": [
    {
     "name": "stdout",
     "output_type": "stream",
     "text": [
      "green\n"
     ]
    }
   ],
   "source": [
    "print(alien_0['color'])"
   ]
  },
  {
   "cell_type": "code",
   "execution_count": 6,
   "id": "a4bcf168-dce2-427d-9d8d-af3a478ce591",
   "metadata": {},
   "outputs": [
    {
     "name": "stdout",
     "output_type": "stream",
     "text": [
      "green hello\n"
     ]
    }
   ],
   "source": [
    "print(f'{alien_0['color']} hello')"
   ]
  },
  {
   "cell_type": "code",
   "execution_count": 7,
   "id": "49d94547-e51e-42be-9ba8-d01e4dc06012",
   "metadata": {},
   "outputs": [],
   "source": [
    "alien_0['x_position'] = 0\n",
    "alien_0['y_position'] = 25"
   ]
  },
  {
   "cell_type": "code",
   "execution_count": 8,
   "id": "d2c14ad3-1b3e-431e-97b2-8832fa985418",
   "metadata": {},
   "outputs": [
    {
     "name": "stdout",
     "output_type": "stream",
     "text": [
      "{'color': 'green', 'points': 5, 'x_position': 0, 'y_position': 25}\n"
     ]
    }
   ],
   "source": [
    "print(alien_0)"
   ]
  },
  {
   "cell_type": "code",
   "execution_count": 10,
   "id": "b9e9d315-bd22-4045-9621-8d45fe12bb8f",
   "metadata": {},
   "outputs": [],
   "source": [
    "alien_0['color'] = 'red'\n"
   ]
  },
  {
   "cell_type": "code",
   "execution_count": 11,
   "id": "66be3a4e-6622-4360-9358-ec232f888049",
   "metadata": {},
   "outputs": [
    {
     "name": "stdout",
     "output_type": "stream",
     "text": [
      "{'color': 'red', 'points': 5, 'x_position': 0, 'y_position': 25}\n"
     ]
    }
   ],
   "source": [
    "print(alien_0)"
   ]
  },
  {
   "cell_type": "code",
   "execution_count": 12,
   "id": "dce2f5d8-831e-480c-9f6e-554bbdf1c455",
   "metadata": {},
   "outputs": [],
   "source": [
    "user_0 = {\n",
    "    'username': 'efermi',\n",
    "    'first': 'enrico',\n",
    "    'last': 'fermi',\n",
    "    } "
   ]
  },
  {
   "cell_type": "code",
   "execution_count": 15,
   "id": "40914286-b552-47d1-9caa-09718b87cdf6",
   "metadata": {},
   "outputs": [
    {
     "name": "stdout",
     "output_type": "stream",
     "text": [
      "\n",
      "Key: username\n",
      "Value: efermi\n",
      "\n",
      "Key: first\n",
      "Value: enrico\n",
      "\n",
      "Key: last\n",
      "Value: fermi\n"
     ]
    }
   ],
   "source": [
    "for key, value in user_0.items():\n",
    "    print(f\"\\nKey: {key}\")\n",
    "    print(f\"Value: {value}\") "
   ]
  },
  {
   "cell_type": "code",
   "execution_count": null,
   "id": "d954dbc2-a979-4a1b-8b19-6972e3d61f08",
   "metadata": {},
   "outputs": [],
   "source": []
  }
 ],
 "metadata": {
  "kernelspec": {
   "display_name": "Python 3 (ipykernel)",
   "language": "python",
   "name": "python3"
  },
  "language_info": {
   "codemirror_mode": {
    "name": "ipython",
    "version": 3
   },
   "file_extension": ".py",
   "mimetype": "text/x-python",
   "name": "python",
   "nbconvert_exporter": "python",
   "pygments_lexer": "ipython3",
   "version": "3.13.2"
  }
 },
 "nbformat": 4,
 "nbformat_minor": 5
}
